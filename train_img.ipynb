{
  "nbformat": 4,
  "nbformat_minor": 0,
  "metadata": {
    "colab": {
      "name": "train_img.ipynb",
      "provenance": [],
      "collapsed_sections": []
    },
    "kernelspec": {
      "name": "python3",
      "display_name": "Python 3"
    },
    "language_info": {
      "name": "python"
    },
    "accelerator": "GPU"
  },
  "cells": [
    {
      "cell_type": "code",
      "metadata": {
        "colab": {
          "base_uri": "https://localhost:8080/"
        },
        "id": "8Kr1aPiGhUsp",
        "outputId": "d609cb1a-ec39-47f1-bb26-fdb3c05198f7"
      },
      "source": [
        "!nvidia-smi -L"
      ],
      "execution_count": 7,
      "outputs": [
        {
          "output_type": "stream",
          "name": "stdout",
          "text": [
            "GPU 0: Tesla K80 (UUID: GPU-749b3eb0-7b01-dec5-578c-4fa109ee96ab)\n"
          ]
        }
      ]
    },
    {
      "cell_type": "code",
      "metadata": {
        "colab": {
          "base_uri": "https://localhost:8080/"
        },
        "id": "U4GotJ1oeec0",
        "outputId": "fcdcdfe1-1442-4653-a620-2a34098879d3"
      },
      "source": [
        "from google.colab import drive\n",
        "drive.mount('/content/drive')"
      ],
      "execution_count": 8,
      "outputs": [
        {
          "output_type": "stream",
          "name": "stdout",
          "text": [
            "Drive already mounted at /content/drive; to attempt to forcibly remount, call drive.mount(\"/content/drive\", force_remount=True).\n"
          ]
        }
      ]
    },
    {
      "cell_type": "markdown",
      "metadata": {
        "id": "7_zMLpvoX7KB"
      },
      "source": [
        "**Scrap Images**"
      ]
    },
    {
      "cell_type": "code",
      "metadata": {
        "id": "qwWxwsDuPNPB"
      },
      "source": [
        "!pip install selenium\n",
        "!apt-get update # to update ubuntu to correctly run apt install\n",
        "!apt install chromium-chromedriver\n",
        "!cp /usr/lib/chromium-browser/chromedriver /usr/bin\n",
        "\n"
      ],
      "execution_count": null,
      "outputs": []
    },
    {
      "cell_type": "code",
      "metadata": {
        "id": "9n7uCcXSPh8u"
      },
      "source": [
        "import selenium\n",
        "from selenium import webdriver\n",
        "import time\n",
        "import os\n",
        "import requests\n",
        "import io \n",
        "from PIL import Image\n",
        "import hashlib"
      ],
      "execution_count": null,
      "outputs": []
    },
    {
      "cell_type": "code",
      "metadata": {
        "colab": {
          "base_uri": "https://localhost:8080/"
        },
        "id": "4o0MDPNXQSVj",
        "outputId": "06e7a873-e98f-4324-ba27-369425f0ff3d"
      },
      "source": [
        "from selenium import webdriver\n",
        "import sys\n",
        "sys.path.insert(0,'/usr/lib/chromium-browser/chromedriver')\n",
        "chrome_options = webdriver.ChromeOptions()\n",
        "chrome_options.add_argument('--headless')\n",
        "chrome_options.add_argument('--no-sandbox')\n",
        "chrome_options.add_argument('--disable-dev-shm-usage')\n",
        "wd = webdriver.Chrome('chromedriver',chrome_options=chrome_options)\n",
        "wd.get(\"https://www.google.co.id\")"
      ],
      "execution_count": null,
      "outputs": [
        {
          "output_type": "stream",
          "name": "stderr",
          "text": [
            "/usr/local/lib/python3.7/dist-packages/ipykernel_launcher.py:8: DeprecationWarning: use options instead of chrome_options\n",
            "  \n"
          ]
        }
      ]
    },
    {
      "cell_type": "code",
      "metadata": {
        "id": "g1l1gaKpQrI5"
      },
      "source": [
        "def fetch_image_urls(query:str, max_links_to_fetch:int, wd:webdriver, sleep_between_interactions:int=1):\n",
        "    def scroll_to_end(wd):\n",
        "        wd.execute_script(\"window.scrollTo(0, document.body.scrollHeight);\")\n",
        "        time.sleep(sleep_between_interactions)    \n",
        "    \n",
        "    # build the google query\n",
        "    search_url = \"https://www.google.co.id/search?safe=off&site=&tbm=isch&source=hp&q={q}&oq={q}&gs_l=img\"\n",
        "\n",
        "    # load the page\n",
        "    wd.get(search_url.format(q=query))\n",
        "\n",
        "    image_urls = set()\n",
        "    image_count = 0\n",
        "    results_start = 0\n",
        "    while image_count < max_links_to_fetch:\n",
        "        scroll_to_end(wd)\n",
        "\n",
        "        # get all image thumbnail results\n",
        "        thumbnail_results = wd.find_elements_by_css_selector(\"img.Q4LuWd\")\n",
        "        number_results = len(thumbnail_results)\n",
        "        \n",
        "        print(f\"Found: {number_results} search results. Extracting links from {results_start}:{number_results}\")\n",
        "        \n",
        "        for img in thumbnail_results[results_start:number_results]:\n",
        "            # try to click every thumbnail such that we can get the real image behind it\n",
        "            try:\n",
        "                img.click()\n",
        "                time.sleep(sleep_between_interactions)\n",
        "            except Exception:\n",
        "                continue\n",
        "\n",
        "            # extract image urls    \n",
        "            actual_images = wd.find_elements_by_css_selector('img.n3VNCb')\n",
        "            for actual_image in actual_images:\n",
        "                if actual_image.get_attribute('src') and 'http' in actual_image.get_attribute('src'):\n",
        "                    image_urls.add(actual_image.get_attribute('src'))\n",
        "\n",
        "            image_count = len(image_urls)\n",
        "\n",
        "            if len(image_urls) >= max_links_to_fetch:\n",
        "                print(f\"Found: {len(image_urls)} image links, done!\")\n",
        "                break\n",
        "        else:\n",
        "            print(\"Found:\", len(image_urls), \"image links, looking for more ...\")\n",
        "            time.sleep(30)\n",
        "            return\n",
        "            load_more_button = wd.find_element_by_css_selector(\".mye4qd\")\n",
        "            if load_more_button:\n",
        "                wd.execute_script(\"document.querySelector('.mye4qd').click();\")\n",
        "\n",
        "        # move the result startpoint further down\n",
        "        results_start = len(thumbnail_results)\n",
        "\n",
        "    return image_urls"
      ],
      "execution_count": null,
      "outputs": []
    },
    {
      "cell_type": "code",
      "metadata": {
        "id": "Cx7m-M8vRa_b"
      },
      "source": [
        "def persist_image(folder_path:str,url:str):\n",
        "    try:\n",
        "        image_content = requests.get(url).content\n",
        "\n",
        "    except Exception as e:\n",
        "        print(f\"ERROR - Could not download {url} - {e}\")\n",
        "\n",
        "    try:\n",
        "        image_file = io.BytesIO(image_content)\n",
        "        image = Image.open(image_file).convert('RGB')\n",
        "        file_path = os.path.join(folder_path,hashlib.sha1(image_content).hexdigest()[:10] + '.jpg')\n",
        "        with open(file_path, 'wb') as f:\n",
        "            image.save(f, \"JPEG\", quality=85)\n",
        "        print(f\"SUCCESS - saved {url} - as {file_path}\")\n",
        "    except Exception as e:\n",
        "        print(f\"ERROR - Could not save {url} - {e}\")"
      ],
      "execution_count": null,
      "outputs": []
    },
    {
      "cell_type": "code",
      "metadata": {
        "id": "-W7QzvPXRgbv"
      },
      "source": [
        "def search_and_download(search_term:str,wd,number_images=5,target_path='/content/drive/MyDrive/foodviz/images'):\n",
        "    target_folder = os.path.join(target_path,'_'.join(search_term.lower().split(' ')))\n",
        "\n",
        "    if not os.path.exists(target_folder):\n",
        "        os.makedirs(target_folder)\n",
        "\n",
        "    with wd:\n",
        "        res = fetch_image_urls(search_term, number_images, wd=wd, sleep_between_interactions=0.5)\n",
        "        \n",
        "    for elem in res:\n",
        "        persist_image(target_folder,elem)"
      ],
      "execution_count": null,
      "outputs": []
    },
    {
      "cell_type": "code",
      "metadata": {
        "id": "uY_hxmsmRwvm"
      },
      "source": [
        "# search_and_download('pempek',wd,40)"
      ],
      "execution_count": null,
      "outputs": []
    },
    {
      "cell_type": "markdown",
      "metadata": {
        "id": "2nTst888WsJd"
      },
      "source": [
        "**Create model**"
      ]
    },
    {
      "cell_type": "code",
      "metadata": {
        "id": "p7CsKkGjhB3c"
      },
      "source": [
        "import tensorflow\n",
        "import os\n",
        "# model = tf.keras.models.load_model(\"/content/drive/MyDrive/sample_foodviz/EfficientNetB1.hdf5\")"
      ],
      "execution_count": 47,
      "outputs": []
    },
    {
      "cell_type": "code",
      "metadata": {
        "id": "WEnkNIJMoqHW"
      },
      "source": [
        "from tensorflow import keras\n",
        "import joblib\n",
        "import operator\n",
        "\n",
        "from tensorflow.keras.preprocessing.image import load_img\n",
        "from tensorflow.keras.preprocessing.image import img_to_array\n",
        "from tensorflow.keras.applications.mobilenet import preprocess_input\n",
        "from tensorflow.keras.applications.mobilenet import decode_predictions\n",
        "\n",
        "from tensorflow.keras.applications import MobileNetV2 "
      ],
      "execution_count": 48,
      "outputs": []
    },
    {
      "cell_type": "code",
      "metadata": {
        "colab": {
          "base_uri": "https://localhost:8080/"
        },
        "id": "2AGa7dPRpzly",
        "outputId": "ea069054-090f-4b22-f678-24a13ed30b73"
      },
      "source": [
        "def ensure_folder_exists(folder):\n",
        "    if not os.path.exists(folder):\n",
        "        os.makedirs(folder)\n",
        "\n",
        "# model = tensorflow.keras.applications.mobilenet.MobileNet(\n",
        "model = MobileNetV2(\n",
        "  input_shape=(224, 224, 3), \n",
        "  include_top=False, \n",
        "  pooling='avg'\n",
        ")\n",
        "\n",
        "from tensorflow.keras.models import Model\n",
        "from tensorflow.keras.layers import (Dropout, Dense, Softmax)\n",
        "x = Dropout(rate=0.4)(model.output)\n",
        "x = Dense(34)(x)\n",
        "x = Softmax()(x)\n",
        "model= Model(model.inputs, x)\n",
        "\n",
        "for layer in model.layers[:-3]:\n",
        "    layer.trainable = False\n",
        "\n",
        "from tensorflow.keras.optimizers import Adam\n",
        "model.compile(\n",
        "    optimizer=Adam(lr=0.001),\n",
        "    loss='categorical_crossentropy',\n",
        "    metrics=['accuracy']\n",
        ")\n",
        "\n",
        "from tensorflow.keras.applications import mobilenet as _mobilenet\n",
        "\n",
        "datagen = tensorflow.keras.preprocessing.image.ImageDataGenerator(\n",
        "    preprocessing_function=_mobilenet.preprocess_input,\n",
        "    shear_range=0.2,\n",
        "    zoom_range=0.2,\n",
        "    horizontal_flip=True,\n",
        "    validation_split=0.2\n",
        ")\n",
        "\n",
        "ensure_folder_exists('/content/drive/MyDrive/foodviz/training_10')\n",
        "training = datagen.flow_from_directory( \n",
        "    '/content/drive/MyDrive/foodviz/images', \n",
        "    target_size=(224, 224),\n",
        "    save_to_dir='/content/drive/MyDrive/foodviz/training_10',\n",
        "    subset='training'\n",
        ") \n",
        "\n",
        "ensure_folder_exists('/content/drive/MyDrive/foodviz/validation_10')\n",
        "validation = datagen.flow_from_directory( \n",
        "    '/content/drive/MyDrive/foodviz/images',\n",
        "    target_size=(224, 224),\n",
        "    save_to_dir='/content/drive/MyDrive/foodviz/validation_10',\n",
        "    subset='validation'\n",
        ") \n",
        "\n",
        "# from tensorflow.keras.tqdm import TQDMNotebookCallback\n",
        "\n",
        "batch_size = 32\n",
        "\n",
        "history = model.fit_generator(\n",
        "    generator=training,\n",
        "    # steps_per_epoch=training.samples // batch_size,\n",
        "    epochs=10,\n",
        "    # callbacks=[TQDMNotebookCallback(leave_inner=True, leave_outer=True)],\n",
        "    validation_data=validation,\n",
        "    validation_steps=validation.samples // batch_size\n",
        ")"
      ],
      "execution_count": 49,
      "outputs": [
        {
          "output_type": "stream",
          "name": "stderr",
          "text": [
            "/usr/local/lib/python3.7/dist-packages/keras/optimizer_v2/optimizer_v2.py:356: UserWarning: The `lr` argument is deprecated, use `learning_rate` instead.\n",
            "  \"The `lr` argument is deprecated, use `learning_rate` instead.\")\n"
          ]
        },
        {
          "output_type": "stream",
          "name": "stdout",
          "text": [
            "Found 1331 images belonging to 34 classes.\n",
            "Found 321 images belonging to 34 classes.\n"
          ]
        },
        {
          "output_type": "stream",
          "name": "stderr",
          "text": [
            "/usr/local/lib/python3.7/dist-packages/keras/engine/training.py:1972: UserWarning: `Model.fit_generator` is deprecated and will be removed in a future version. Please use `Model.fit`, which supports generators.\n",
            "  warnings.warn('`Model.fit_generator` is deprecated and '\n"
          ]
        },
        {
          "output_type": "stream",
          "name": "stdout",
          "text": [
            "Epoch 1/10\n",
            "42/42 [==============================] - 86s 2s/step - loss: 3.0919 - accuracy: 0.2044 - val_loss: 1.8197 - val_accuracy: 0.5938\n",
            "Epoch 2/10\n",
            "42/42 [==============================] - 81s 2s/step - loss: 1.6025 - accuracy: 0.5545 - val_loss: 1.1768 - val_accuracy: 0.7437\n",
            "Epoch 3/10\n",
            "42/42 [==============================] - 79s 2s/step - loss: 1.0541 - accuracy: 0.7077 - val_loss: 0.9455 - val_accuracy: 0.8000\n",
            "Epoch 4/10\n",
            "42/42 [==============================] - 81s 2s/step - loss: 0.8631 - accuracy: 0.7701 - val_loss: 0.7721 - val_accuracy: 0.8125\n",
            "Epoch 5/10\n",
            "42/42 [==============================] - 81s 2s/step - loss: 0.6908 - accuracy: 0.8167 - val_loss: 0.7041 - val_accuracy: 0.8313\n",
            "Epoch 6/10\n",
            "42/42 [==============================] - 83s 2s/step - loss: 0.5620 - accuracy: 0.8520 - val_loss: 0.6488 - val_accuracy: 0.8281\n",
            "Epoch 7/10\n",
            "42/42 [==============================] - 83s 2s/step - loss: 0.4957 - accuracy: 0.8813 - val_loss: 0.6099 - val_accuracy: 0.8500\n",
            "Epoch 8/10\n",
            "42/42 [==============================] - 81s 2s/step - loss: 0.4247 - accuracy: 0.8948 - val_loss: 0.5658 - val_accuracy: 0.8625\n",
            "Epoch 9/10\n",
            "42/42 [==============================] - 80s 2s/step - loss: 0.3633 - accuracy: 0.9196 - val_loss: 0.5589 - val_accuracy: 0.8562\n",
            "Epoch 10/10\n",
            "42/42 [==============================] - 82s 2s/step - loss: 0.3603 - accuracy: 0.9106 - val_loss: 0.4897 - val_accuracy: 0.8781\n"
          ]
        }
      ]
    },
    {
      "cell_type": "code",
      "metadata": {
        "id": "W37zg6TMTZjQ"
      },
      "source": [
        "model = MobileNetV2(\n",
        "  input_shape=(224, 224, 3), \n",
        "  include_top=False, \n",
        "  pooling='avg'\n",
        ")\n",
        "\n",
        "from tensorflow.keras.models import Model\n",
        "from tensorflow.keras.layers import (Dropout, Dense, Softmax)\n",
        "x = Dropout(rate=0.4)(model.output)\n",
        "x = Dense(34)(x)\n",
        "x = Softmax()(x)\n",
        "model= Model(model.inputs, x)\n",
        "\n",
        "for layer in model.layers[:-3]:\n",
        "    layer.trainable = False\n",
        "\n",
        "from tensorflow.keras.optimizers import Adam\n",
        "model.compile(\n",
        "    optimizer=Adam(lr=0.001),\n",
        "    loss='categorical_crossentropy',\n",
        "    metrics=['accuracy']\n",
        ")\n",
        "\n",
        "from tensorflow.keras.applications import mobilenet as _mobilenet\n",
        "batch_size = 32\n",
        "\n",
        "history = model.fit_generator(\n",
        "    generator=training,\n",
        "    # steps_per_epoch=training.samples // batch_size,\n",
        "    epochs=20,\n",
        "    # callbacks=[TQDMNotebookCallback(leave_inner=True, leave_outer=True)],\n",
        "    validation_data=validation,\n",
        "    validation_steps=validation.samples // batch_size\n",
        ")"
      ],
      "execution_count": null,
      "outputs": []
    },
    {
      "cell_type": "code",
      "metadata": {
        "id": "VCod5JIGmp02"
      },
      "source": [
        "model_viz = tensorflow.keras.utils.plot_model(\n",
        "    model,\n",
        "    to_file='model.png',\n",
        "    show_shapes=True,\n",
        "    show_layer_names=True,\n",
        "    rankdir='TB',\n",
        "    expand_nested=True,\n",
        "    dpi=55\n",
        ")\n",
        "model_viz\n"
      ],
      "execution_count": null,
      "outputs": []
    },
    {
      "cell_type": "code",
      "metadata": {
        "colab": {
          "base_uri": "https://localhost:8080/"
        },
        "id": "WdXa5BY5l2vS",
        "outputId": "0add72b2-68a7-49a8-e046-de1e0187e0ac"
      },
      "source": [
        "model.evaluate(training)"
      ],
      "execution_count": 54,
      "outputs": [
        {
          "output_type": "stream",
          "name": "stdout",
          "text": [
            "42/42 [==============================] - 68s 2s/step - loss: 0.2187 - accuracy: 0.9669\n"
          ]
        },
        {
          "output_type": "execute_result",
          "data": {
            "text/plain": [
              "[0.21865372359752655, 0.9669421315193176]"
            ]
          },
          "metadata": {},
          "execution_count": 54
        }
      ]
    },
    {
      "cell_type": "code",
      "metadata": {
        "colab": {
          "base_uri": "https://localhost:8080/"
        },
        "id": "khx98O4H8Kgw",
        "outputId": "c1cdfaa3-fc97-4800-a654-483a20dbfb7d"
      },
      "source": [
        "model.evaluate(validation)"
      ],
      "execution_count": 53,
      "outputs": [
        {
          "output_type": "stream",
          "name": "stdout",
          "text": [
            "11/11 [==============================] - 17s 2s/step - loss: 0.5274 - accuracy: 0.8629\n"
          ]
        },
        {
          "output_type": "execute_result",
          "data": {
            "text/plain": [
              "[0.5274448394775391, 0.8629283308982849]"
            ]
          },
          "metadata": {},
          "execution_count": 53
        }
      ]
    },
    {
      "cell_type": "code",
      "metadata": {
        "id": "s458sCQg9HqC"
      },
      "source": [
        "loss = history.history['loss']\n",
        "val_loss = history.history['val_loss']\n",
        "\n",
        "accuracy = history.history['accuracy']\n",
        "val_accuracy = history.history['val_accuracy']\n",
        "\n",
        "epochs = range(len(history.history['loss']))"
      ],
      "execution_count": 56,
      "outputs": []
    },
    {
      "cell_type": "code",
      "metadata": {
        "id": "aa3ealqZ93Cw"
      },
      "source": [
        "import matplotlib.pyplot as plt"
      ],
      "execution_count": 57,
      "outputs": []
    },
    {
      "cell_type": "code",
      "metadata": {
        "colab": {
          "base_uri": "https://localhost:8080/",
          "height": 312
        },
        "id": "Dui_w4cT9ZhC",
        "outputId": "e58b72a9-21b6-4bed-b923-cafd9226dcac"
      },
      "source": [
        "# Plot loss\n",
        "plt.plot(epochs, loss, label='training_loss')\n",
        "plt.plot(epochs, val_loss, label='val_loss')\n",
        "plt.title('Loss')\n",
        "plt.xlabel('Epochs')\n",
        "plt.legend()"
      ],
      "execution_count": 59,
      "outputs": [
        {
          "output_type": "execute_result",
          "data": {
            "text/plain": [
              "<matplotlib.legend.Legend at 0x7f6390c4c2d0>"
            ]
          },
          "metadata": {},
          "execution_count": 59
        },
        {
          "output_type": "display_data",
          "data": {
            "image/png": "[encoded data removed]",
            "text/plain": [
              "<Figure size 432x288 with 1 Axes>"
            ]
          },
          "metadata": {
            "needs_background": "light"
          }
        }
      ]
    },
    {
      "cell_type": "code",
      "metadata": {
        "colab": {
          "base_uri": "https://localhost:8080/",
          "height": 312
        },
        "id": "iVRqun7N9y2r",
        "outputId": "ae63124b-cde8-439d-a1fe-42021736e9f1"
      },
      "source": [
        "# Plot accuracy\n",
        "plt.figure()\n",
        "plt.plot(epochs, accuracy, label='training_accuracy')\n",
        "plt.plot(epochs, val_accuracy, label='val_accuracy')\n",
        "plt.title('Accuracy')\n",
        "plt.xlabel('Epochs')\n",
        "plt.legend()"
      ],
      "execution_count": 60,
      "outputs": [
        {
          "output_type": "execute_result",
          "data": {
            "text/plain": [
              "<matplotlib.legend.Legend at 0x7f6390abef50>"
            ]
          },
          "metadata": {},
          "execution_count": 60
        },
        {
          "output_type": "display_data",
          "data": {
            "image/png": "[encoded data removed]",
            "text/plain": [
              "<Figure size 432x288 with 1 Axes>"
            ]
          },
          "metadata": {
            "needs_background": "light"
          }
        }
      ]
    },
    {
      "cell_type": "code",
      "metadata": {
        "id": "1naRURoa9HUd"
      },
      "source": [
        ""
      ],
      "execution_count": null,
      "outputs": []
    },
    {
      "cell_type": "code",
      "metadata": {
        "colab": {
          "base_uri": "https://localhost:8080/"
        },
        "id": "_cCEtwHbvDzE",
        "outputId": "beb9518b-1d76-4833-d21b-f9476fcf5d44"
      },
      "source": [
        "import joblib\n",
        "\n",
        "# joblib.dump(datagen, \"/content/drive/MyDrive/foodviz/datagen.joblib\")\n",
        "model.save(\"/content/drive/MyDrive/foodviz/fcvmodel.h5\")\n",
        "\n",
        "saved_model_dir = '' #means current directory\n",
        "tf.saved_model.save(model, saved_model_dir) #saves to the current directory"
      ],
      "execution_count": 51,
      "outputs": [
        {
          "output_type": "stream",
          "name": "stderr",
          "text": [
            "/usr/local/lib/python3.7/dist-packages/keras/utils/generic_utils.py:497: CustomMaskWarning: Custom mask layers require a config and must override get_config. When loading, the custom mask layer must be passed to the custom_objects argument.\n",
            "  category=CustomMaskWarning)\n"
          ]
        },
        {
          "output_type": "stream",
          "name": "stdout",
          "text": [
            "INFO:tensorflow:Assets written to: assets\n"
          ]
        },
        {
          "output_type": "stream",
          "name": "stderr",
          "text": [
            "INFO:tensorflow:Assets written to: assets\n"
          ]
        }
      ]
    },
    {
      "cell_type": "code",
      "metadata": {
        "id": "gYKnLiaxvd15"
      },
      "source": [
        "model = keras.models.load_model('/content/drive/MyDrive/foodviz/fcvmodel.h5')\n",
        "# datagen = joblib.load('datagen.joblib')\n",
        "\n",
        "def getPrediction(img):\n",
        "    image = img\n",
        "    image = img_to_array(image)\n",
        "    image = image.reshape((1, image.shape[0], image.shape[1], image.shape[2]))\n",
        "    image = preprocess_input(image)\n",
        "    yhat = model.predict(image)\n",
        "    label = yhat[0]\n",
        "    a,b,c,d = np.round(label[0]*100,2),np.round(label[1]*100,2),np.round(label[2]*100,2),np.round(label[3]*100,2)\n",
        "    top = dict(zip(['bakso','pempek','sate','soto'], [a,b,c,d]))\n",
        "    top3 = dict(sorted(top.items(), key=operator.itemgetter(1), reverse=True)[:3])\n",
        "    return top3"
      ],
      "execution_count": null,
      "outputs": []
    },
    {
      "cell_type": "code",
      "metadata": {
        "colab": {
          "base_uri": "https://localhost:8080/"
        },
        "id": "cwu1Ua_qxAaP",
        "outputId": "affb1bab-0adc-46b9-e0c5-13fba5dd3f2c"
      },
      "source": [
        "import sys\n",
        "from PIL import Image\n",
        "import numpy as np\n",
        "sys.modules['Image'] = Image \n",
        "img = Image.open('/content/drive/MyDrive/images/bakso/c83fdadd1a.jpg')\n",
        "newsize = (224, 224)\n",
        "img = img.resize(newsize)\n",
        "\n",
        "test = getPrediction(img)\n",
        "print(test)"
      ],
      "execution_count": null,
      "outputs": [
        {
          "output_type": "stream",
          "name": "stdout",
          "text": [
            "{'bakso': 54.41, 'pempek': 8.21, 'sate': 2.57, 'soto': 34.8}\n"
          ]
        }
      ]
    },
    {
      "cell_type": "code",
      "metadata": {
        "colab": {
          "base_uri": "https://localhost:8080/"
        },
        "id": "zD4rTiq0wwMd",
        "outputId": "7f6bc957-883f-4d4a-e0ee-8aef2efee201"
      },
      "source": [
        "test = getPrediction(img)\n",
        "print(test)"
      ],
      "execution_count": null,
      "outputs": [
        {
          "output_type": "stream",
          "name": "stdout",
          "text": [
            "{'bakso': 55.79, 'gado_gado': 9.41, 'sate': 11.32, 'soto': 23.48}\n"
          ]
        }
      ]
    },
    {
      "cell_type": "code",
      "metadata": {
        "id": "1ggosGhZDkWL"
      },
      "source": [
        "pip freeze > requirements.txt"
      ],
      "execution_count": null,
      "outputs": []
    },
    {
      "cell_type": "code",
      "metadata": {
        "id": "K2GlJadGHp59"
      },
      "source": [
        "converter = tf.lite.TFLiteConverter.from_saved_model(saved_model_dir) \n",
        "tflite_model = converter.convert() #converts our model into a .tflite model which flutter uses for ondevice machine learning\n",
        "\n",
        "with open('/content/drive/MyDrive/foodviz/model10.tflite', 'wb') as f: #to write the converted model into a file, written as binary so add 'wb' instead of 'w'\n",
        "  f.write(tflite_model)"
      ],
      "execution_count": 52,
      "outputs": []
    }
  ]
}